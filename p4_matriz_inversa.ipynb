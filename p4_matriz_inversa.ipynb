{
 "cells": [
  {
   "cell_type": "code",
   "execution_count": 3,
   "metadata": {},
   "outputs": [],
   "source": [
    "%load_ext autoreload\n",
    "# %autoreload 2"
   ]
  },
  {
   "cell_type": "code",
   "execution_count": 4,
   "metadata": {},
   "outputs": [
    {
     "name": "stdout",
     "output_type": "stream",
     "text": [
      "[02-06 12:48:39][INFO] riamu| 2025-02-06 12:48:39.616351\n"
     ]
    }
   ],
   "source": [
    "import logging\n",
    "from sys import stdout\n",
    "from datetime import datetime\n",
    "import numpy as np\n",
    "import os\n",
    "\n",
    "logging.basicConfig(\n",
    "    level=logging.INFO,\n",
    "    format=\"[%(asctime)s][%(levelname)s] %(message)s\",\n",
    "    stream=stdout,\n",
    "    datefmt=\"%m-%d %H:%M:%S\",\n",
    ")\n",
    "\n",
    "logging.info(f\"{os.getlogin()}| {datetime.now()}\")"
   ]
  },
  {
   "cell_type": "code",
   "execution_count": 5,
   "metadata": {},
   "outputs": [],
   "source": [
    "# ####################################################################\n",
    "def gauss_jordan(Ab: np.ndarray) -> np.ndarray:\n",
    "    \"\"\"Resuelve un sistema de ecuaciones lineales mediante el método de Gauss-Jordan.\n",
    "\n",
    "    ## Parameters\n",
    "\n",
    "    ``Ab``: matriz aumentada del sistema de ecuaciones lineales. Debe ser de tamaño n-by-(n+1), donde n es el número de incógnitas.\n",
    "\n",
    "    ## Return\n",
    "\n",
    "    ``solucion``: vector con la solución del sistema de ecuaciones lineales.\n",
    "\n",
    "    \"\"\"\n",
    "    if not isinstance(Ab, np.ndarray):\n",
    "        logging.debug(\"Convirtiendo A a numpy array.\")\n",
    "        Ab = np.array(Ab, dtype=float)\n",
    "    assert Ab.shape[0] == Ab.shape[1] - 1, \"La matriz A debe ser de tamaño n-by-(n+1).\"\n",
    "    n = Ab.shape[0]\n",
    "\n",
    "    for i in range(0, n):  # loop por columna\n",
    "\n",
    "        # --- encontrar pivote\n",
    "        p = None  # default, first element\n",
    "        for pi in range(i, n):\n",
    "            if Ab[pi, i] == 0:\n",
    "                # must be nonzero\n",
    "                continue\n",
    "\n",
    "            if p is None:\n",
    "                # first nonzero element\n",
    "                p = pi\n",
    "                continue\n",
    "\n",
    "            if abs(Ab[pi, i]) < abs(Ab[p, i]):\n",
    "                p = pi\n",
    "\n",
    "        if p is None:\n",
    "            # no pivot found.\n",
    "            raise ValueError(\"No existe solución única.\")\n",
    "\n",
    "        if p != i:\n",
    "            # swap rows\n",
    "            logging.debug(f\"Intercambiando filas {i} y {p}\")\n",
    "            _aux = Ab[i, :].copy()\n",
    "            Ab[i, :] = Ab[p, :].copy()\n",
    "            Ab[p, :] = _aux\n",
    "\n",
    "        # --- Eliminación: loop por fila\n",
    "        for j in range(n):\n",
    "            if i == j:\n",
    "                continue\n",
    "            m = Ab[j, i] / Ab[i, i]\n",
    "            Ab[j, i:] = Ab[j, i:] - m * Ab[i, i:]\n",
    "\n",
    "        logging.info(f\"\\n{Ab}\")\n",
    "\n",
    "    if Ab[n - 1, n - 1] == 0:\n",
    "        raise ValueError(\"No existe solución única.\")\n",
    "\n",
    "    # --- Sustitución hacia atrás\n",
    "    solucion = np.zeros(n)\n",
    "\n",
    "    for i in range(n - 1, -1, -1):\n",
    "        solucion[i] = Ab[i, -1] / Ab[i, i]\n",
    "\n",
    "    return solucion"
   ]
  },
  {
   "cell_type": "code",
   "execution_count": 6,
   "metadata": {},
   "outputs": [
    {
     "name": "stdout",
     "output_type": "stream",
     "text": [
      "[02-06 12:48:49][INFO] 2025-02-06 12:48:49.979483\n",
      "[02-06 12:48:49][INFO] riamu| 2025-02-06 12:48:49.981835\n",
      "[02-06 12:48:49][INFO] 2025-02-06 12:48:49.984343\n",
      "[02-06 12:48:49][INFO] riamu| 2025-02-06 12:48:49.986862\n",
      "[02-06 12:48:49][INFO] \n",
      "[[ 1.  2.  3.  4.  1.]\n",
      " [ 0.  1.  0. -1. -4.]\n",
      " [ 0.  0. -1. -3.  0.]\n",
      " [ 0. -1. -3. -6.  0.]]\n",
      "[02-06 12:48:49][INFO] \n",
      "[[ 1.  0.  3.  6.  9.]\n",
      " [ 0.  1.  0. -1. -4.]\n",
      " [ 0.  0. -1. -3.  0.]\n",
      " [ 0.  0. -3. -7. -4.]]\n",
      "[02-06 12:48:49][INFO] \n",
      "[[ 1.  0.  0. -3.  9.]\n",
      " [ 0.  1.  0. -1. -4.]\n",
      " [ 0.  0. -1. -3.  0.]\n",
      " [ 0.  0.  0.  2. -4.]]\n",
      "[02-06 12:48:49][INFO] \n",
      "[[ 1.  0.  0.  0.  3.]\n",
      " [ 0.  1.  0.  0. -6.]\n",
      " [ 0.  0. -1.  0. -6.]\n",
      " [ 0.  0.  0.  2. -4.]]\n"
     ]
    },
    {
     "data": {
      "text/plain": [
       "array([ 3., -6.,  6., -2.])"
      ]
     },
     "execution_count": 6,
     "metadata": {},
     "output_type": "execute_result"
    }
   ],
   "source": [
    "%autoreload 2\n",
    "from src import matriz_aumentada\n",
    "\n",
    "A = [\n",
    "    [1, 2, 3, 4],\n",
    "    [2, 5, 6, 7],\n",
    "    [3, 6, 8, 9],\n",
    "    [4, 7, 9, 10],\n",
    "]\n",
    "b = [1, -2, 3, 4]\n",
    "\n",
    "Ab = matriz_aumentada(A, b)\n",
    "gauss_jordan(Ab)"
   ]
  },
  {
   "cell_type": "markdown",
   "metadata": {},
   "source": [
    "# Resolver"
   ]
  },
  {
   "cell_type": "code",
   "execution_count": 15,
   "metadata": {},
   "outputs": [],
   "source": [
    "# ####################################################################\n",
    "def inv_matrix(A: np.ndarray) -> np.ndarray:\n",
    "    \"\"\"Inversión de una matriz cuadrada mediante método de Gauss-Jordan.\n",
    "    ## Parameters\n",
    "    ``A``: matriz cuadrada de tamaño n x n.\n",
    "\n",
    "    ## Return\n",
    "    ``A_inv``: matriz inversa de A.\n",
    "    \"\"\"\n",
    "\n",
    "    \n",
    "    if not isinstance(A, np.ndarray):\n",
    "        logging.debug(\"Convirtiendo A a numpy array.\")\n",
    "        A = np.array(A, dtype=float)\n",
    "    assert A.shape[0] == A.shape[1], \"La matriz A debe ser cuadrada.\"\n",
    "    n = A.shape[0]\n",
    "\n",
    "    # Crear una matriz aumentada con la matriz identidad\n",
    "    Ab = np.hstack([A, np.eye(n)])\n",
    "\n",
    "    # Aplicar el método de Gauss-Jordan\n",
    "    for i in range(0, n):  # loop por columna\n",
    "\n",
    "        # --- encontrar pivote\n",
    "        p = None  # default, first element\n",
    "        for pi in range(i, n):\n",
    "            if Ab[pi, i] == 0:\n",
    "                # must be nonzero\n",
    "                continue\n",
    "\n",
    "            if p is None:\n",
    "                # first nonzero element\n",
    "                p = pi\n",
    "                continue\n",
    "\n",
    "            if abs(Ab[pi, i]) < abs(Ab[p, i]):\n",
    "                p = pi\n",
    "\n",
    "        if p is None:\n",
    "            # no pivot found.\n",
    "            raise ValueError(\"No existe solución única.\")\n",
    "\n",
    "        if p != i:\n",
    "            # swap rows\n",
    "            logging.debug(f\"Intercambiando filas {i} y {p}\")\n",
    "            _aux = Ab[i, :].copy()\n",
    "            Ab[i, :] = Ab[p, :].copy()\n",
    "            Ab[p, :] = _aux\n",
    "\n",
    "        # --- Eliminación: loop por fila\n",
    "        for j in range(n):\n",
    "            if i == j:\n",
    "                continue\n",
    "            m = Ab[j, i] / Ab[i, i]\n",
    "            Ab[j, i:] = Ab[j, i:] - m * Ab[i, i:]\n",
    "\n",
    "        logging.info(f\"\\n{Ab}\")\n",
    "\n",
    "    if Ab[n - 1, n - 1] == 0:\n",
    "        raise ValueError(\"No existe solución única.\")\n",
    "\n",
    "    # Extraer la matriz inversa\n",
    "    A_inv = Ab[:, n:]\n",
    "\n",
    "    return A_inv\n",
    "    # COMPLETAR\n",
    "    # Debe basarse en la función gauss_jordan\n",
    "    pass"
   ]
  },
  {
   "cell_type": "markdown",
   "metadata": {},
   "source": [
    "## Ejemplos\n",
    "* Ejemplo 1"
   ]
  },
  {
   "cell_type": "code",
   "execution_count": 16,
   "metadata": {},
   "outputs": [
    {
     "name": "stdout",
     "output_type": "stream",
     "text": [
      "[02-06 12:53:57][INFO] \n",
      "[[ 1.  2.  3.  4.  1.  0.  0.  0.]\n",
      " [ 0.  1.  0. -1. -2.  1.  0.  0.]\n",
      " [ 0.  0. -1. -3. -3.  0.  1.  0.]\n",
      " [ 0. -1. -3. -6. -4.  0.  0.  1.]]\n",
      "[02-06 12:53:57][INFO] \n",
      "[[ 1.  0.  3.  6.  5. -2.  0.  0.]\n",
      " [ 0.  1.  0. -1. -2.  1.  0.  0.]\n",
      " [ 0.  0. -1. -3. -3.  0.  1.  0.]\n",
      " [ 0.  0. -3. -7. -6.  1.  0.  1.]]\n",
      "[02-06 12:53:57][INFO] \n",
      "[[ 1.  0.  0. -3. -4. -2.  3.  0.]\n",
      " [ 0.  1.  0. -1. -2.  1.  0.  0.]\n",
      " [ 0.  0. -1. -3. -3.  0.  1.  0.]\n",
      " [ 0.  0.  0.  2.  3.  1. -3.  1.]]\n",
      "[02-06 12:53:57][INFO] \n",
      "[[ 1.   0.   0.   0.   0.5 -0.5 -1.5  1.5]\n",
      " [ 0.   1.   0.   0.  -0.5  1.5 -1.5  0.5]\n",
      " [ 0.   0.  -1.   0.   1.5  1.5 -3.5  1.5]\n",
      " [ 0.   0.   0.   2.   3.   1.  -3.   1. ]]\n"
     ]
    },
    {
     "data": {
      "text/plain": [
       "array([[ 0.5, -0.5, -1.5,  1.5],\n",
       "       [-0.5,  1.5, -1.5,  0.5],\n",
       "       [ 1.5,  1.5, -3.5,  1.5],\n",
       "       [ 3. ,  1. , -3. ,  1. ]])"
      ]
     },
     "execution_count": 16,
     "metadata": {},
     "output_type": "execute_result"
    }
   ],
   "source": [
    "# La matriz A =\n",
    "A = [\n",
    "    [1, 2, 3, 4],\n",
    "    [2, 5, 6, 7],\n",
    "    [3, 6, 8, 9],\n",
    "    [4, 7, 9, 10],\n",
    "]\n",
    "# tiene como inversa\n",
    "# A_inv =[[ 0.5, -0.5, -1.5,  1.5],\n",
    "#        [-0.5,  1.5, -1.5,  0.5],\n",
    "#        [-1.5, -1.5,  3.5, -1.5],\n",
    "#        [ 1.5,  0.5, -1.5,  0.5]]\n",
    "inv_matrix(A)"
   ]
  },
  {
   "cell_type": "markdown",
   "metadata": {},
   "source": [
    "* Ejemplo 2"
   ]
  },
  {
   "cell_type": "code",
   "execution_count": 17,
   "metadata": {},
   "outputs": [
    {
     "name": "stdout",
     "output_type": "stream",
     "text": [
      "[02-06 12:54:06][INFO] \n",
      "[[ 2.   1.   4.   1.   0.   0.   1.   0. ]\n",
      " [ 0.   2.5 -4.   0.5  0.   1.  -1.5  0. ]\n",
      " [ 0.   2.  -3.  -1.   1.   0.  -2.   0. ]\n",
      " [ 0.   0.5 -1.   2.5  0.   0.  -1.5  1. ]]\n",
      "[02-06 12:54:06][INFO] \n",
      "[[  2.    0.    6.   -4.    0.    0.    4.   -2. ]\n",
      " [  0.    0.5  -1.    2.5   0.    0.   -1.5   1. ]\n",
      " [  0.    0.    1.  -11.    1.    0.    4.   -4. ]\n",
      " [  0.    0.    1.  -12.    0.    1.    6.   -5. ]]\n"
     ]
    },
    {
     "name": "stdout",
     "output_type": "stream",
     "text": [
      "[02-06 12:54:06][INFO] \n",
      "[[  2.    0.    0.   62.   -6.    0.  -20.   22. ]\n",
      " [  0.    0.5   0.   -8.5   1.    0.    2.5  -3. ]\n",
      " [  0.    0.    1.  -11.    1.    0.    4.   -4. ]\n",
      " [  0.    0.    0.   -1.   -1.    1.    2.   -1. ]]\n",
      "[02-06 12:54:06][INFO] \n",
      "[[  2.    0.    0.    0.  -68.   62.  104.  -40. ]\n",
      " [  0.    0.5   0.    0.    9.5  -8.5 -14.5   5.5]\n",
      " [  0.    0.    1.    0.   12.  -11.  -18.    7. ]\n",
      " [  0.    0.    0.   -1.   -1.    1.    2.   -1. ]]\n"
     ]
    },
    {
     "data": {
      "text/plain": [
       "array([[-68. ,  62. , 104. , -40. ],\n",
       "       [  9.5,  -8.5, -14.5,   5.5],\n",
       "       [ 12. , -11. , -18. ,   7. ],\n",
       "       [ -1. ,   1. ,   2. ,  -1. ]])"
      ]
     },
     "execution_count": 17,
     "metadata": {},
     "output_type": "execute_result"
    }
   ],
   "source": [
    "# La matriz A =\n",
    "A = [\n",
    "    [4, 4, 5, 1],\n",
    "    [3, 4, 2, 2],\n",
    "    [2, 1, 4, 1],\n",
    "    [3, 2, 5, 4],\n",
    "]\n",
    "# tiene como inversa\n",
    "# A_inv =[[-34.,  31.,  52., -20.],\n",
    "#         [ 19., -17., -29.,  11.],\n",
    "#         [ 12., -11., -18.,   7.],\n",
    "#         [  1.,  -1.,  -2.,   1.]]\n",
    "inv_matrix(A)"
   ]
  },
  {
   "cell_type": "markdown",
   "metadata": {},
   "source": [
    "## Ejercicios"
   ]
  },
  {
   "cell_type": "markdown",
   "metadata": {},
   "source": [
    "* Ejercicio 1"
   ]
  },
  {
   "cell_type": "code",
   "execution_count": 18,
   "metadata": {},
   "outputs": [
    {
     "name": "stdout",
     "output_type": "stream",
     "text": [
      "[02-06 12:54:10][INFO] \n",
      "[[-1.  1.  0.  1.]\n",
      " [ 0. -1.  1.  2.]]\n",
      "[02-06 12:54:10][INFO] \n",
      "[[-1.  0.  1.  3.]\n",
      " [ 0. -1.  1.  2.]]\n"
     ]
    },
    {
     "data": {
      "text/plain": [
       "array([[1., 3.],\n",
       "       [1., 2.]])"
      ]
     },
     "execution_count": 18,
     "metadata": {},
     "output_type": "execute_result"
    }
   ],
   "source": [
    "A = [[2, -3], [-1, 1]]\n",
    "inv_matrix(A)"
   ]
  },
  {
   "cell_type": "markdown",
   "metadata": {},
   "source": [
    "* Ejercicio 2"
   ]
  },
  {
   "cell_type": "code",
   "execution_count": 19,
   "metadata": {},
   "outputs": [
    {
     "name": "stdout",
     "output_type": "stream",
     "text": [
      "[02-06 12:54:42][INFO] \n",
      "[[  1.   0.   4.   0.   0.   1.   0.   0.]\n",
      " [  0.   0. -16.   5.   1.  -4.   0.   0.]\n",
      " [  0.   4. -11.   3.   0.  -3.   1.   0.]\n",
      " [  0.   3.  -1.   0.   0.  -1.   0.   1.]]\n",
      "[02-06 12:54:42][INFO] \n",
      "[[  1.           0.           4.           0.           0.\n",
      "    1.           0.           0.        ]\n",
      " [  0.           3.          -1.           0.           0.\n",
      "   -1.           0.           1.        ]\n",
      " [  0.           0.          -9.66666667   3.           0.\n",
      "   -1.66666667   1.          -1.33333333]\n",
      " [  0.           0.         -16.           5.           1.\n",
      "   -4.           0.           0.        ]]\n",
      "[02-06 12:54:42][INFO] \n",
      "[[ 1.          0.          0.          1.24137931  0.          0.31034483\n",
      "   0.4137931  -0.55172414]\n",
      " [ 0.          3.          0.         -0.31034483  0.         -0.82758621\n",
      "  -0.10344828  1.13793103]\n",
      " [ 0.          0.         -9.66666667  3.          0.         -1.66666667\n",
      "   1.         -1.33333333]\n",
      " [ 0.          0.          0.          0.03448276  1.         -1.24137931\n",
      "  -1.65517241  2.20689655]]\n",
      "[02-06 12:54:42][INFO] \n",
      "[[ 1.00000000e+00  0.00000000e+00  0.00000000e+00  0.00000000e+00\n",
      "  -3.60000000e+01  4.50000000e+01  6.00000000e+01 -8.00000000e+01]\n",
      " [ 0.00000000e+00  3.00000000e+00  0.00000000e+00  0.00000000e+00\n",
      "   9.00000000e+00 -1.20000000e+01 -1.50000000e+01  2.10000000e+01]\n",
      " [ 0.00000000e+00  0.00000000e+00 -9.66666667e+00  0.00000000e+00\n",
      "  -8.70000000e+01  1.06333333e+02  1.45000000e+02 -1.93333333e+02]\n",
      " [ 0.00000000e+00  0.00000000e+00  0.00000000e+00  3.44827586e-02\n",
      "   1.00000000e+00 -1.24137931e+00 -1.65517241e+00  2.20689655e+00]]\n"
     ]
    },
    {
     "data": {
      "text/plain": [
       "array([[ -36.        ,   45.        ,   60.        ,  -80.        ],\n",
       "       [   9.        ,  -12.        ,  -15.        ,   21.        ],\n",
       "       [ -87.        ,  106.33333333,  145.        , -193.33333333],\n",
       "       [   1.        ,   -1.24137931,   -1.65517241,    2.20689655]])"
      ]
     },
     "execution_count": 19,
     "metadata": {},
     "output_type": "execute_result"
    }
   ],
   "source": [
    "A = [\n",
    "    [4, 0, 0, 5],\n",
    "    [1, 0, 4, 0],\n",
    "    [3, 4, 1, 3],\n",
    "    [1, 3, 3, 0],\n",
    "]\n",
    "inv_matrix(A)"
   ]
  },
  {
   "cell_type": "markdown",
   "metadata": {},
   "source": [
    "* Ejercicio 3"
   ]
  },
  {
   "cell_type": "code",
   "execution_count": 76,
   "metadata": {},
   "outputs": [],
   "source": [
    "A = [\n",
    "    [0, 0, 0, 0, 0, 0, 1, -1],\n",
    "    [0, 1, -1, 1, 0, -1, 0, 1],\n",
    "    [-1, -1, 0, 0, 2, 1, 0, 0],\n",
    "    [-1, -1, -1, 1, 2, 0, 0, 1],\n",
    "    [-1, 1, 1, 0, -1, -1, 0, 2],\n",
    "    [0, 1, 0, 0, -1, -1, 0, 0],\n",
    "    [1, -1, -1, 1, 2, 1, 0, 2],\n",
    "    [2, 0, 0, 0, 0, 1, 2, 0],\n",
    "]\n",
    "inv_matrix(A)"
   ]
  },
  {
   "cell_type": "markdown",
   "metadata": {},
   "source": [
    "* Ejercicio 4"
   ]
  },
  {
   "cell_type": "code",
   "execution_count": 77,
   "metadata": {},
   "outputs": [],
   "source": [
    "A = [\n",
    "    [1, 0, 0, 0, -1, 0, 0, -1, 1, -1],\n",
    "    [1, 1, 0, -1, -1, 1, 0, 0, 1, -1],\n",
    "    [-1, 0, -1, 0, 0, 0, -1, 1, 0, 0],\n",
    "    [0, 0, -1, 0, -1, -1, 1, 0, 1, 0],\n",
    "    [-1, 0, 0, -1, 1, 1, 1, 1, 0, -1],\n",
    "    [1, 0, 0, 1, -1, -1, -1, 1, -1, 0],\n",
    "    [1, 1, 1, 0, 1, 0, -1, -1, -1, 1],\n",
    "    [1, 1, 1, 1, 0, 0, 1, 1, 0, 0],\n",
    "    [1, 1, 1, 1, 1, 0, -1, -1, 0, 0],\n",
    "    [0, 0, -1, -1, -1, 0, 1, 1, 1, -1],\n",
    "]\n",
    "inv_matrix(A)"
   ]
  }
 ],
 "metadata": {
  "kernelspec": {
   "display_name": "Python 3",
   "language": "python",
   "name": "python3"
  },
  "language_info": {
   "codemirror_mode": {
    "name": "ipython",
    "version": 3
   },
   "file_extension": ".py",
   "mimetype": "text/x-python",
   "name": "python",
   "nbconvert_exporter": "python",
   "pygments_lexer": "ipython3",
   "version": "3.13.0"
  }
 },
 "nbformat": 4,
 "nbformat_minor": 2
}
